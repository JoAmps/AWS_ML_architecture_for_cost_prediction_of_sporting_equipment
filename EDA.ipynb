{
 "cells": [
  {
   "cell_type": "code",
   "execution_count": null,
   "id": "5d6d08f2",
   "metadata": {},
   "outputs": [],
   "source": []
  },
  {
   "cell_type": "code",
   "execution_count": null,
   "id": "2b86c015",
   "metadata": {},
   "outputs": [],
   "source": []
  },
  {
   "cell_type": "code",
   "execution_count": null,
   "id": "7e1c71f4",
   "metadata": {},
   "outputs": [],
   "source": []
  },
  {
   "cell_type": "code",
   "execution_count": null,
   "id": "d338a726",
   "metadata": {},
   "outputs": [],
   "source": []
  },
  {
   "cell_type": "markdown",
   "id": "44cae3f6",
   "metadata": {},
   "source": [
    "### Import libraries and load datasets"
   ]
  },
  {
   "cell_type": "code",
   "execution_count": 4,
   "id": "bd9dfec6",
   "metadata": {},
   "outputs": [],
   "source": [
    "#import neccesary libraries\n",
    "import pandas as pd\n",
    "import numpy as np\n",
    "import warnings\n",
    "warnings.filterwarnings(\"ignore\")\n",
    "import matplotlib.pyplot as plt\n",
    "import seaborn as sns\n",
    "from pylab import rcParams\n",
    "from itertools import cycle, islice\n",
    "sns.set(style=\"white\", context=\"talk\")\n",
    "import warnings\n",
    "warnings.filterwarnings('ignore')\n",
    "from preprocessing import datetime, read_dataset, find_season, create_weekday, scale_outliers, drop\n",
    "from sklearn.metrics import mean_absolute_error, mean_squared_error"
   ]
  },
  {
   "cell_type": "code",
   "execution_count": 4,
   "id": "ceb51900",
   "metadata": {
    "scrolled": true
   },
   "outputs": [
    {
     "data": {
      "text/html": [
       "<div>\n",
       "<style scoped>\n",
       "    .dataframe tbody tr th:only-of-type {\n",
       "        vertical-align: middle;\n",
       "    }\n",
       "\n",
       "    .dataframe tbody tr th {\n",
       "        vertical-align: top;\n",
       "    }\n",
       "\n",
       "    .dataframe thead th {\n",
       "        text-align: right;\n",
       "    }\n",
       "</style>\n",
       "<table border=\"1\" class=\"dataframe\">\n",
       "  <thead>\n",
       "    <tr style=\"text-align: right;\">\n",
       "      <th></th>\n",
       "      <th>Unnamed: 0</th>\n",
       "      <th>Date</th>\n",
       "      <th>mode_of_purchase</th>\n",
       "      <th>sporting_equipment</th>\n",
       "      <th>store</th>\n",
       "      <th>estimated_spending</th>\n",
       "      <th>number_of_items_bought</th>\n",
       "    </tr>\n",
       "  </thead>\n",
       "  <tbody>\n",
       "    <tr>\n",
       "      <th>0</th>\n",
       "      <td>0</td>\n",
       "      <td>2019-08-01</td>\n",
       "      <td>order</td>\n",
       "      <td>fitness</td>\n",
       "      <td>east</td>\n",
       "      <td>167.1768</td>\n",
       "      <td>7</td>\n",
       "    </tr>\n",
       "    <tr>\n",
       "      <th>1</th>\n",
       "      <td>1</td>\n",
       "      <td>2019-08-01</td>\n",
       "      <td>order</td>\n",
       "      <td>jog/run</td>\n",
       "      <td>south</td>\n",
       "      <td>297.5084</td>\n",
       "      <td>8</td>\n",
       "    </tr>\n",
       "    <tr>\n",
       "      <th>2</th>\n",
       "      <td>2</td>\n",
       "      <td>2019-08-01</td>\n",
       "      <td>order</td>\n",
       "      <td>pilates</td>\n",
       "      <td>south</td>\n",
       "      <td>150.5168</td>\n",
       "      <td>5</td>\n",
       "    </tr>\n",
       "    <tr>\n",
       "      <th>3</th>\n",
       "      <td>3</td>\n",
       "      <td>2019-08-01</td>\n",
       "      <td>order</td>\n",
       "      <td>pilates</td>\n",
       "      <td>east</td>\n",
       "      <td>91.9114</td>\n",
       "      <td>7</td>\n",
       "    </tr>\n",
       "    <tr>\n",
       "      <th>4</th>\n",
       "      <td>4</td>\n",
       "      <td>2019-08-01</td>\n",
       "      <td>physical_collection</td>\n",
       "      <td>diving</td>\n",
       "      <td>west</td>\n",
       "      <td>90.8194</td>\n",
       "      <td>2</td>\n",
       "    </tr>\n",
       "  </tbody>\n",
       "</table>\n",
       "</div>"
      ],
      "text/plain": [
       "   Unnamed: 0        Date     mode_of_purchase sporting_equipment  store  \\\n",
       "0           0  2019-08-01                order            fitness   east   \n",
       "1           1  2019-08-01                order            jog/run  south   \n",
       "2           2  2019-08-01                order            pilates  south   \n",
       "3           3  2019-08-01                order            pilates   east   \n",
       "4           4  2019-08-01  physical_collection             diving   west   \n",
       "\n",
       "   estimated_spending  number_of_items_bought  \n",
       "0            167.1768                       7  \n",
       "1            297.5084                       8  \n",
       "2            150.5168                       5  \n",
       "3             91.9114                       7  \n",
       "4             90.8194                       2  "
      ]
     },
     "execution_count": 4,
     "metadata": {},
     "output_type": "execute_result"
    }
   ],
   "source": [
    "#load in the dataset\n",
    "df=pd.read_csv('data/costs.csv')\n",
    "df.head()"
   ]
  },
  {
   "cell_type": "code",
   "execution_count": 5,
   "id": "b192fb72",
   "metadata": {},
   "outputs": [
    {
     "data": {
      "text/html": [
       "<div>\n",
       "<style scoped>\n",
       "    .dataframe tbody tr th:only-of-type {\n",
       "        vertical-align: middle;\n",
       "    }\n",
       "\n",
       "    .dataframe tbody tr th {\n",
       "        vertical-align: top;\n",
       "    }\n",
       "\n",
       "    .dataframe thead th {\n",
       "        text-align: right;\n",
       "    }\n",
       "</style>\n",
       "<table border=\"1\" class=\"dataframe\">\n",
       "  <thead>\n",
       "    <tr style=\"text-align: right;\">\n",
       "      <th></th>\n",
       "      <th>Date</th>\n",
       "      <th>mode_of_purchase</th>\n",
       "      <th>sporting_equipment</th>\n",
       "      <th>store</th>\n",
       "      <th>estimated_spending</th>\n",
       "      <th>number_of_items_bought</th>\n",
       "    </tr>\n",
       "  </thead>\n",
       "  <tbody>\n",
       "    <tr>\n",
       "      <th>0</th>\n",
       "      <td>2019-08-01</td>\n",
       "      <td>order</td>\n",
       "      <td>fitness</td>\n",
       "      <td>east</td>\n",
       "      <td>167.1768</td>\n",
       "      <td>7</td>\n",
       "    </tr>\n",
       "    <tr>\n",
       "      <th>1</th>\n",
       "      <td>2019-08-01</td>\n",
       "      <td>order</td>\n",
       "      <td>jog/run</td>\n",
       "      <td>south</td>\n",
       "      <td>297.5084</td>\n",
       "      <td>8</td>\n",
       "    </tr>\n",
       "    <tr>\n",
       "      <th>2</th>\n",
       "      <td>2019-08-01</td>\n",
       "      <td>order</td>\n",
       "      <td>pilates</td>\n",
       "      <td>south</td>\n",
       "      <td>150.5168</td>\n",
       "      <td>5</td>\n",
       "    </tr>\n",
       "    <tr>\n",
       "      <th>3</th>\n",
       "      <td>2019-08-01</td>\n",
       "      <td>order</td>\n",
       "      <td>pilates</td>\n",
       "      <td>east</td>\n",
       "      <td>91.9114</td>\n",
       "      <td>7</td>\n",
       "    </tr>\n",
       "    <tr>\n",
       "      <th>4</th>\n",
       "      <td>2019-08-01</td>\n",
       "      <td>physical_collection</td>\n",
       "      <td>diving</td>\n",
       "      <td>west</td>\n",
       "      <td>90.8194</td>\n",
       "      <td>2</td>\n",
       "    </tr>\n",
       "  </tbody>\n",
       "</table>\n",
       "</div>"
      ],
      "text/plain": [
       "         Date     mode_of_purchase sporting_equipment  store  \\\n",
       "0  2019-08-01                order            fitness   east   \n",
       "1  2019-08-01                order            jog/run  south   \n",
       "2  2019-08-01                order            pilates  south   \n",
       "3  2019-08-01                order            pilates   east   \n",
       "4  2019-08-01  physical_collection             diving   west   \n",
       "\n",
       "   estimated_spending  number_of_items_bought  \n",
       "0            167.1768                       7  \n",
       "1            297.5084                       8  \n",
       "2            150.5168                       5  \n",
       "3             91.9114                       7  \n",
       "4             90.8194                       2  "
      ]
     },
     "execution_count": 5,
     "metadata": {},
     "output_type": "execute_result"
    }
   ],
   "source": [
    "#remove the unneccesary column\n",
    "df=df.drop(columns=['Unnamed: 0'])\n",
    "df.head()"
   ]
  },
  {
   "cell_type": "markdown",
   "id": "938ba88f",
   "metadata": {},
   "source": [
    "### Data visualizations, analysis and Feature Engineering"
   ]
  },
  {
   "cell_type": "code",
   "execution_count": 6,
   "id": "01b19b7d",
   "metadata": {},
   "outputs": [],
   "source": [
    "#convert date to datetime and extract month and day from it\n",
    "df['Date']=pd.to_datetime(df['Date'])\n",
    "df['month']=df['Date'].dt.month\n",
    "df['day']=df['Date'].dt.day"
   ]
  },
  {
   "cell_type": "code",
   "execution_count": 7,
   "id": "2fb0aec2",
   "metadata": {},
   "outputs": [
    {
     "data": {
      "text/html": [
       "<div>\n",
       "<style scoped>\n",
       "    .dataframe tbody tr th:only-of-type {\n",
       "        vertical-align: middle;\n",
       "    }\n",
       "\n",
       "    .dataframe tbody tr th {\n",
       "        vertical-align: top;\n",
       "    }\n",
       "\n",
       "    .dataframe thead th {\n",
       "        text-align: right;\n",
       "    }\n",
       "</style>\n",
       "<table border=\"1\" class=\"dataframe\">\n",
       "  <thead>\n",
       "    <tr style=\"text-align: right;\">\n",
       "      <th></th>\n",
       "      <th>Date</th>\n",
       "      <th>mode_of_purchase</th>\n",
       "      <th>sporting_equipment</th>\n",
       "      <th>store</th>\n",
       "      <th>estimated_spending</th>\n",
       "      <th>number_of_items_bought</th>\n",
       "      <th>month</th>\n",
       "      <th>day</th>\n",
       "    </tr>\n",
       "  </thead>\n",
       "  <tbody>\n",
       "    <tr>\n",
       "      <th>0</th>\n",
       "      <td>2019-08-01</td>\n",
       "      <td>order</td>\n",
       "      <td>fitness</td>\n",
       "      <td>east</td>\n",
       "      <td>167.1768</td>\n",
       "      <td>7</td>\n",
       "      <td>8</td>\n",
       "      <td>1</td>\n",
       "    </tr>\n",
       "    <tr>\n",
       "      <th>1</th>\n",
       "      <td>2019-08-01</td>\n",
       "      <td>order</td>\n",
       "      <td>jog/run</td>\n",
       "      <td>south</td>\n",
       "      <td>297.5084</td>\n",
       "      <td>8</td>\n",
       "      <td>8</td>\n",
       "      <td>1</td>\n",
       "    </tr>\n",
       "    <tr>\n",
       "      <th>2</th>\n",
       "      <td>2019-08-01</td>\n",
       "      <td>order</td>\n",
       "      <td>pilates</td>\n",
       "      <td>south</td>\n",
       "      <td>150.5168</td>\n",
       "      <td>5</td>\n",
       "      <td>8</td>\n",
       "      <td>1</td>\n",
       "    </tr>\n",
       "    <tr>\n",
       "      <th>3</th>\n",
       "      <td>2019-08-01</td>\n",
       "      <td>order</td>\n",
       "      <td>pilates</td>\n",
       "      <td>east</td>\n",
       "      <td>91.9114</td>\n",
       "      <td>7</td>\n",
       "      <td>8</td>\n",
       "      <td>1</td>\n",
       "    </tr>\n",
       "    <tr>\n",
       "      <th>4</th>\n",
       "      <td>2019-08-01</td>\n",
       "      <td>physical_collection</td>\n",
       "      <td>diving</td>\n",
       "      <td>west</td>\n",
       "      <td>90.8194</td>\n",
       "      <td>2</td>\n",
       "      <td>8</td>\n",
       "      <td>1</td>\n",
       "    </tr>\n",
       "  </tbody>\n",
       "</table>\n",
       "</div>"
      ],
      "text/plain": [
       "        Date     mode_of_purchase sporting_equipment  store  \\\n",
       "0 2019-08-01                order            fitness   east   \n",
       "1 2019-08-01                order            jog/run  south   \n",
       "2 2019-08-01                order            pilates  south   \n",
       "3 2019-08-01                order            pilates   east   \n",
       "4 2019-08-01  physical_collection             diving   west   \n",
       "\n",
       "   estimated_spending  number_of_items_bought  month  day  \n",
       "0            167.1768                       7      8    1  \n",
       "1            297.5084                       8      8    1  \n",
       "2            150.5168                       5      8    1  \n",
       "3             91.9114                       7      8    1  \n",
       "4             90.8194                       2      8    1  "
      ]
     },
     "execution_count": 7,
     "metadata": {},
     "output_type": "execute_result"
    }
   ],
   "source": [
    "df.head()"
   ]
  },
  {
   "cell_type": "code",
   "execution_count": 8,
   "id": "89a8fb1b",
   "metadata": {},
   "outputs": [],
   "source": [
    "df=df[df['sporting_equipment']!='unknown']"
   ]
  },
  {
   "cell_type": "code",
   "execution_count": 9,
   "id": "4990baa1",
   "metadata": {},
   "outputs": [
    {
     "data": {
      "text/plain": [
       "Date                      0\n",
       "mode_of_purchase          0\n",
       "sporting_equipment        0\n",
       "store                     0\n",
       "estimated_spending        0\n",
       "number_of_items_bought    0\n",
       "month                     0\n",
       "day                       0\n",
       "dtype: int64"
      ]
     },
     "execution_count": 9,
     "metadata": {},
     "output_type": "execute_result"
    }
   ],
   "source": [
    "#check for missing values\n",
    "df.isnull().sum()"
   ]
  },
  {
   "cell_type": "code",
   "execution_count": 10,
   "id": "88b6990a",
   "metadata": {},
   "outputs": [],
   "source": [
    "fig1, ax1 = plt.subplots(figsize=(9,9))\n",
    "explode=(0,0.05, 0.05)\n",
    "plt.pie(df['store'].value_counts(),labels=df['store'].unique(), explode=explode,shadow=True,\n",
    "        startangle=90,autopct='%.2f')\n",
    "ax1.axis('equal');\n",
    "ax1.set_title('Percentage Of Customer Purchases in each Store',fontdict={'size':20});"
   ]
  },
  {
   "cell_type": "markdown",
   "id": "11858eeb",
   "metadata": {},
   "source": [
    "#### The east store had the most purchases from customers, with almost half of the total number, coming from that store\n",
    "#### West store accounted for only around 21% of the total number of purchases"
   ]
  },
  {
   "cell_type": "code",
   "execution_count": 11,
   "id": "28ac44d9",
   "metadata": {},
   "outputs": [
    {
     "data": {
      "image/png": "[encoded data removed]",
      "text/plain": [
       "<Figure size 900x900 with 1 Axes>"
      ]
     },
     "metadata": {},
     "output_type": "display_data"
    },
    {
     "data": {
      "image/png": "[encoded data removed]",
      "text/plain": [
       "<Figure size 1100x800 with 1 Axes>"
      ]
     },
     "metadata": {},
     "output_type": "display_data"
    }
   ],
   "source": [
    "plt.figure(figsize=(11,8))\n",
    "ax = (df['mode_of_purchase'].value_counts()/len(df['mode_of_purchase'])*100).plot.bar(rot=90)\n",
    "ax.bar_label(ax.containers[0], fmt='%.2f %%')\n",
    "ax.margins(x=12)\n",
    "plt.ylabel('Number of Customers')\n",
    "plt.title('Distribution of the Mode Of Purchase of Equipment')\n",
    "plt.show()"
   ]
  },
  {
   "cell_type": "markdown",
   "id": "e3eb4151",
   "metadata": {},
   "source": [
    "#### Most customers prefer to order these sporting equipments than to go to the actual stores to purchase them, with almost 80% of them ordering the equipment, this could be due to the effect of corona, which made everyone stay home, since the data spans before corona, during lockdown and after lockdown"
   ]
  },
  {
   "cell_type": "code",
   "execution_count": 12,
   "id": "2f4d0251",
   "metadata": {},
   "outputs": [],
   "source": [
    "my_colors = list(islice(cycle(['b', 'r', 'g', 'y', 'k']), None, len(df)))\n",
    "ax=df.groupby('sporting_equipment')['number_of_items_bought'].count().sort_values().plot(kind='barh',figsize=(13,10), color=my_colors)\n",
    "ax.set_title('Number of Sports Equipments Bought',fontdict={'size':20});"
   ]
  },
  {
   "cell_type": "markdown",
   "id": "706d7396",
   "metadata": {},
   "source": [
    "#### The equipment for hiking or trekking were the most purchased, and volley ball equipment were the least purchased\n",
    "#### The most popular sport in the world, which is football, was the 6th most purchased, with around 2100 of them being bought\n",
    "#### Basketball, which is the most popular in the US, didnt make the top 10 of most purchased sporting equipment by these customers"
   ]
  },
  {
   "cell_type": "code",
   "execution_count": 13,
   "id": "ef71222c",
   "metadata": {},
   "outputs": [],
   "source": [
    "plt.figure(figsize=(13,9))\n",
    "sns.countplot(x='store', data=df)\n",
    "plt.xlabel('Stores')\n",
    "plt.ylabel('Number of customers')\n",
    "plt.title('Stores that sold the Sporting Equipment');"
   ]
  },
  {
   "cell_type": "markdown",
   "id": "f9876825",
   "metadata": {},
   "source": [
    "#### 3 stores sold equipment to customers, with the store on the eastern side selling the most, with around 20000 equipments\n",
    "#### The west store sold the least, with only under 10000 equipment being sold by this store"
   ]
  },
  {
   "cell_type": "code",
   "execution_count": 14,
   "id": "04459688",
   "metadata": {},
   "outputs": [
    {
     "data": {
      "text/plain": [
       "0         8\n",
       "1         8\n",
       "2         8\n",
       "3         8\n",
       "4         8\n",
       "         ..\n",
       "46758    10\n",
       "46759    10\n",
       "46760    10\n",
       "46761    10\n",
       "46762    10\n",
       "Name: month, Length: 46478, dtype: int64"
      ]
     },
     "execution_count": 14,
     "metadata": {},
     "output_type": "execute_result"
    }
   ],
   "source": [
    "df['month']"
   ]
  },
  {
   "cell_type": "code",
   "execution_count": 15,
   "id": "8282789c",
   "metadata": {},
   "outputs": [],
   "source": [
    "def find_season(month):\n",
    "    season = {12:'Winter', 1:'Winter', 2:'Winter',\n",
    "            3:'Spring', 4:'Spring', 5:'Spring',\n",
    "            6:'Summer', 7:'Summer', 8:'Summer',\n",
    "            9:'Autumn', 10:'Autumn', 11:'Autumn'}\n",
    "    return season.get(month)"
   ]
  },
  {
   "cell_type": "code",
   "execution_count": 16,
   "id": "9258d4a4",
   "metadata": {},
   "outputs": [],
   "source": [
    "season_list = []\n",
    "for month in df['month']:\n",
    "    season = find_season(month)\n",
    "    season_list.append(season)\n",
    "    \n",
    "df['seasons'] = season_list"
   ]
  },
  {
   "cell_type": "code",
   "execution_count": 17,
   "id": "68a2c9e7",
   "metadata": {},
   "outputs": [
    {
     "data": {
      "text/plain": [
       "Autumn    13726\n",
       "Summer    12093\n",
       "Spring    10365\n",
       "Winter    10294\n",
       "Name: seasons, dtype: int64"
      ]
     },
     "execution_count": 17,
     "metadata": {},
     "output_type": "execute_result"
    }
   ],
   "source": [
    "df['seasons'].value_counts()"
   ]
  },
  {
   "cell_type": "code",
   "execution_count": 18,
   "id": "5fe5dc6d",
   "metadata": {},
   "outputs": [],
   "source": [
    "#Creating seasons from the months\n",
    "#df['seasons']=(pd.cut(df['month'], [3,5,8,11,14], labels=['spring','summer','autumn','Winter'], right=False,include_lowest=True))\n",
    "#df['seasons'].value_counts()"
   ]
  },
  {
   "cell_type": "code",
   "execution_count": 19,
   "id": "7d838ea5",
   "metadata": {},
   "outputs": [
    {
     "data": {
      "text/plain": [
       "<AxesSubplot:title={'center':'Stores that sold the Sporting Equipment'}, xlabel='seasons', ylabel='Number of customers'>"
      ]
     },
     "execution_count": 19,
     "metadata": {},
     "output_type": "execute_result"
    }
   ],
   "source": [
    "df.groupby('seasons')['estimated_spending'].mean().sort_values(ascending=False).plot(kind='bar',figsize=(11,10),cmap='PiYG_r')"
   ]
  },
  {
   "cell_type": "markdown",
   "id": "6d13f7fb",
   "metadata": {},
   "source": [
    "#### Even though winter was the season with the least purchases, most customers spent on average higher during that season than the other seasons, with a little under 800 dollars being spent, which could be due to the fact that usually, prices of goods generally increase during this period\n",
    "#### Autumn had the most purchases, but on average customers spent under 600 dollars in that season"
   ]
  },
  {
   "cell_type": "code",
   "execution_count": 20,
   "id": "98e49805",
   "metadata": {},
   "outputs": [
    {
     "data": {
      "text/plain": [
       "<AxesSubplot:xlabel='store', ylabel='count'>"
      ]
     },
     "execution_count": 20,
     "metadata": {},
     "output_type": "execute_result"
    }
   ],
   "source": [
    "plt.figure(figsize=(13,9))\n",
    "sns.countplot(x='store', data=df, hue='seasons')"
   ]
  },
  {
   "cell_type": "code",
   "execution_count": 21,
   "id": "eb28e937",
   "metadata": {},
   "outputs": [
    {
     "data": {
      "text/html": [
       "<div>\n",
       "<style scoped>\n",
       "    .dataframe tbody tr th:only-of-type {\n",
       "        vertical-align: middle;\n",
       "    }\n",
       "\n",
       "    .dataframe tbody tr th {\n",
       "        vertical-align: top;\n",
       "    }\n",
       "\n",
       "    .dataframe thead th {\n",
       "        text-align: right;\n",
       "    }\n",
       "</style>\n",
       "<table border=\"1\" class=\"dataframe\">\n",
       "  <thead>\n",
       "    <tr style=\"text-align: right;\">\n",
       "      <th></th>\n",
       "      <th>Date</th>\n",
       "      <th>mode_of_purchase</th>\n",
       "      <th>sporting_equipment</th>\n",
       "      <th>store</th>\n",
       "      <th>estimated_spending</th>\n",
       "      <th>number_of_items_bought</th>\n",
       "      <th>month</th>\n",
       "      <th>day</th>\n",
       "      <th>seasons</th>\n",
       "    </tr>\n",
       "  </thead>\n",
       "  <tbody>\n",
       "    <tr>\n",
       "      <th>0</th>\n",
       "      <td>2019-08-01</td>\n",
       "      <td>order</td>\n",
       "      <td>fitness</td>\n",
       "      <td>east</td>\n",
       "      <td>167.1768</td>\n",
       "      <td>7</td>\n",
       "      <td>8</td>\n",
       "      <td>1</td>\n",
       "      <td>Summer</td>\n",
       "    </tr>\n",
       "    <tr>\n",
       "      <th>1</th>\n",
       "      <td>2019-08-01</td>\n",
       "      <td>order</td>\n",
       "      <td>jog/run</td>\n",
       "      <td>south</td>\n",
       "      <td>297.5084</td>\n",
       "      <td>8</td>\n",
       "      <td>8</td>\n",
       "      <td>1</td>\n",
       "      <td>Summer</td>\n",
       "    </tr>\n",
       "    <tr>\n",
       "      <th>2</th>\n",
       "      <td>2019-08-01</td>\n",
       "      <td>order</td>\n",
       "      <td>pilates</td>\n",
       "      <td>south</td>\n",
       "      <td>150.5168</td>\n",
       "      <td>5</td>\n",
       "      <td>8</td>\n",
       "      <td>1</td>\n",
       "      <td>Summer</td>\n",
       "    </tr>\n",
       "  </tbody>\n",
       "</table>\n",
       "</div>"
      ],
      "text/plain": [
       "        Date mode_of_purchase sporting_equipment  store  estimated_spending  \\\n",
       "0 2019-08-01            order            fitness   east            167.1768   \n",
       "1 2019-08-01            order            jog/run  south            297.5084   \n",
       "2 2019-08-01            order            pilates  south            150.5168   \n",
       "\n",
       "   number_of_items_bought  month  day seasons  \n",
       "0                       7      8    1  Summer  \n",
       "1                       8      8    1  Summer  \n",
       "2                       5      8    1  Summer  "
      ]
     },
     "execution_count": 21,
     "metadata": {},
     "output_type": "execute_result"
    }
   ],
   "source": [
    "df.head(3)"
   ]
  },
  {
   "cell_type": "code",
   "execution_count": 22,
   "id": "b9866df2",
   "metadata": {},
   "outputs": [
    {
     "data": {
      "text/plain": [
       "<AxesSubplot:xlabel='store', ylabel='count'>"
      ]
     },
     "execution_count": 22,
     "metadata": {},
     "output_type": "execute_result"
    }
   ],
   "source": [
    "df.groupby('store')['estimated_spending'].mean().sort_values(ascending=False).plot(kind='bar',figsize=(10,10),cmap='nipy_spectral')"
   ]
  },
  {
   "cell_type": "markdown",
   "id": "283e5409",
   "metadata": {},
   "source": [
    "#### As the east store made the most purchases, customers also spent the most in that store on average, with about 850 dollars being spent there"
   ]
  },
  {
   "cell_type": "code",
   "execution_count": 23,
   "id": "66349c05",
   "metadata": {},
   "outputs": [],
   "source": [
    "#extracting weekday from day of week\n",
    "df['weekday']=np.where((df['Date'].dt.dayofweek) < 5,'weekday','weekend')"
   ]
  },
  {
   "cell_type": "code",
   "execution_count": 24,
   "id": "97cf6c0f",
   "metadata": {},
   "outputs": [
    {
     "data": {
      "text/plain": [
       "weekday    33307\n",
       "weekend    13171\n",
       "Name: weekday, dtype: int64"
      ]
     },
     "execution_count": 24,
     "metadata": {},
     "output_type": "execute_result"
    }
   ],
   "source": [
    "df['weekday'].value_counts()"
   ]
  },
  {
   "cell_type": "code",
   "execution_count": 25,
   "id": "6a6fac38",
   "metadata": {},
   "outputs": [
    {
     "data": {
      "text/plain": [
       "<AxesSubplot:xlabel='weekday', ylabel='count'>"
      ]
     },
     "execution_count": 25,
     "metadata": {},
     "output_type": "execute_result"
    }
   ],
   "source": [
    "df.groupby('weekday')['estimated_spending'].mean().sort_values(ascending=False).plot(kind='bar',figsize=(10,8),cmap='coolwarm_r')"
   ]
  },
  {
   "cell_type": "markdown",
   "id": "9908bdae",
   "metadata": {},
   "source": [
    "#### Most customers spent more on weekdays than the weekdays, with around 650 dollars being spent on average on the weekdays, compared to a little over 500 dollars being spent on the weekend, this could be due to the fact that, most people do sporting activties during the weekend, so they prefer buying these equipment ahead of time(during the week), so they dont now have to be running around, looking for the equipment when they really need it on the weekend"
   ]
  },
  {
   "cell_type": "code",
   "execution_count": 26,
   "id": "9dc34cfc",
   "metadata": {},
   "outputs": [
    {
     "data": {
      "text/plain": [
       "weekday\n",
       "weekday    7.933648\n",
       "weekend    6.870625\n",
       "Name: number_of_items_bought, dtype: float64"
      ]
     },
     "execution_count": 26,
     "metadata": {},
     "output_type": "execute_result"
    }
   ],
   "source": [
    "df.groupby('weekday')['number_of_items_bought'].mean().sort_values(ascending=False)"
   ]
  },
  {
   "cell_type": "code",
   "execution_count": 27,
   "id": "97ff465e",
   "metadata": {},
   "outputs": [
    {
     "data": {
      "text/plain": [
       "<AxesSubplot:xlabel='weekday', ylabel='count'>"
      ]
     },
     "execution_count": 27,
     "metadata": {},
     "output_type": "execute_result"
    }
   ],
   "source": [
    "df.groupby('weekday')['number_of_items_bought'].mean().sort_values(ascending=False).plot(kind='bar',figsize=(10,8),cmap='tab10_r')"
   ]
  },
  {
   "cell_type": "markdown",
   "id": "57b5035e",
   "metadata": {},
   "source": [
    "#### Also, more equipments were sold on average during the week than the weekends, with more equipment being sold 6.9% during the weekday more than in the weekend"
   ]
  },
  {
   "cell_type": "code",
   "execution_count": 28,
   "id": "80107c43",
   "metadata": {},
   "outputs": [],
   "source": [
    "#extracting the data before and after corona\n",
    "df['Corona_effect']=np.where((df['Date']) > '2020-03-10','corona_effect','before_corona')"
   ]
  },
  {
   "cell_type": "code",
   "execution_count": 29,
   "id": "2d883c64",
   "metadata": {},
   "outputs": [
    {
     "data": {
      "text/html": [
       "<div>\n",
       "<style scoped>\n",
       "    .dataframe tbody tr th:only-of-type {\n",
       "        vertical-align: middle;\n",
       "    }\n",
       "\n",
       "    .dataframe tbody tr th {\n",
       "        vertical-align: top;\n",
       "    }\n",
       "\n",
       "    .dataframe thead th {\n",
       "        text-align: right;\n",
       "    }\n",
       "</style>\n",
       "<table border=\"1\" class=\"dataframe\">\n",
       "  <thead>\n",
       "    <tr style=\"text-align: right;\">\n",
       "      <th></th>\n",
       "      <th>Date</th>\n",
       "      <th>mode_of_purchase</th>\n",
       "      <th>sporting_equipment</th>\n",
       "      <th>store</th>\n",
       "      <th>estimated_spending</th>\n",
       "      <th>number_of_items_bought</th>\n",
       "      <th>month</th>\n",
       "      <th>day</th>\n",
       "      <th>seasons</th>\n",
       "      <th>weekday</th>\n",
       "      <th>Corona_effect</th>\n",
       "    </tr>\n",
       "  </thead>\n",
       "  <tbody>\n",
       "    <tr>\n",
       "      <th>0</th>\n",
       "      <td>2019-08-01</td>\n",
       "      <td>order</td>\n",
       "      <td>fitness</td>\n",
       "      <td>east</td>\n",
       "      <td>167.1768</td>\n",
       "      <td>7</td>\n",
       "      <td>8</td>\n",
       "      <td>1</td>\n",
       "      <td>Summer</td>\n",
       "      <td>weekday</td>\n",
       "      <td>before_corona</td>\n",
       "    </tr>\n",
       "    <tr>\n",
       "      <th>1</th>\n",
       "      <td>2019-08-01</td>\n",
       "      <td>order</td>\n",
       "      <td>jog/run</td>\n",
       "      <td>south</td>\n",
       "      <td>297.5084</td>\n",
       "      <td>8</td>\n",
       "      <td>8</td>\n",
       "      <td>1</td>\n",
       "      <td>Summer</td>\n",
       "      <td>weekday</td>\n",
       "      <td>before_corona</td>\n",
       "    </tr>\n",
       "    <tr>\n",
       "      <th>2</th>\n",
       "      <td>2019-08-01</td>\n",
       "      <td>order</td>\n",
       "      <td>pilates</td>\n",
       "      <td>south</td>\n",
       "      <td>150.5168</td>\n",
       "      <td>5</td>\n",
       "      <td>8</td>\n",
       "      <td>1</td>\n",
       "      <td>Summer</td>\n",
       "      <td>weekday</td>\n",
       "      <td>before_corona</td>\n",
       "    </tr>\n",
       "    <tr>\n",
       "      <th>3</th>\n",
       "      <td>2019-08-01</td>\n",
       "      <td>order</td>\n",
       "      <td>pilates</td>\n",
       "      <td>east</td>\n",
       "      <td>91.9114</td>\n",
       "      <td>7</td>\n",
       "      <td>8</td>\n",
       "      <td>1</td>\n",
       "      <td>Summer</td>\n",
       "      <td>weekday</td>\n",
       "      <td>before_corona</td>\n",
       "    </tr>\n",
       "    <tr>\n",
       "      <th>4</th>\n",
       "      <td>2019-08-01</td>\n",
       "      <td>physical_collection</td>\n",
       "      <td>diving</td>\n",
       "      <td>west</td>\n",
       "      <td>90.8194</td>\n",
       "      <td>2</td>\n",
       "      <td>8</td>\n",
       "      <td>1</td>\n",
       "      <td>Summer</td>\n",
       "      <td>weekday</td>\n",
       "      <td>before_corona</td>\n",
       "    </tr>\n",
       "  </tbody>\n",
       "</table>\n",
       "</div>"
      ],
      "text/plain": [
       "        Date     mode_of_purchase sporting_equipment  store  \\\n",
       "0 2019-08-01                order            fitness   east   \n",
       "1 2019-08-01                order            jog/run  south   \n",
       "2 2019-08-01                order            pilates  south   \n",
       "3 2019-08-01                order            pilates   east   \n",
       "4 2019-08-01  physical_collection             diving   west   \n",
       "\n",
       "   estimated_spending  number_of_items_bought  month  day seasons  weekday  \\\n",
       "0            167.1768                       7      8    1  Summer  weekday   \n",
       "1            297.5084                       8      8    1  Summer  weekday   \n",
       "2            150.5168                       5      8    1  Summer  weekday   \n",
       "3             91.9114                       7      8    1  Summer  weekday   \n",
       "4             90.8194                       2      8    1  Summer  weekday   \n",
       "\n",
       "   Corona_effect  \n",
       "0  before_corona  \n",
       "1  before_corona  \n",
       "2  before_corona  \n",
       "3  before_corona  \n",
       "4  before_corona  "
      ]
     },
     "execution_count": 29,
     "metadata": {},
     "output_type": "execute_result"
    }
   ],
   "source": [
    "df.head()"
   ]
  },
  {
   "cell_type": "code",
   "execution_count": 30,
   "id": "79d1259d",
   "metadata": {},
   "outputs": [
    {
     "data": {
      "text/plain": [
       "<AxesSubplot:xlabel='Corona_effect', ylabel='count'>"
      ]
     },
     "execution_count": 30,
     "metadata": {},
     "output_type": "execute_result"
    }
   ],
   "source": [
    "df.groupby('Corona_effect')['estimated_spending'].mean().plot(kind='bar',figsize=(10,10),cmap='crest')"
   ]
  },
  {
   "cell_type": "markdown",
   "id": "da25e0a2",
   "metadata": {},
   "source": [
    "#### As expected, there was more spending before corona occurred, than when it occurred, with customers spending more than twice the amount before corona and after corona"
   ]
  },
  {
   "cell_type": "code",
   "execution_count": 31,
   "id": "ff8d5847",
   "metadata": {},
   "outputs": [
    {
     "data": {
      "text/plain": [
       "<AxesSubplot:xlabel='Corona_effect', ylabel='count'>"
      ]
     },
     "execution_count": 31,
     "metadata": {},
     "output_type": "execute_result"
    }
   ],
   "source": [
    "df.groupby('Corona_effect')['number_of_items_bought'].mean().plot(kind='bar',figsize=(10,10),cmap='brg_r')"
   ]
  },
  {
   "cell_type": "markdown",
   "id": "f954bd4a",
   "metadata": {},
   "source": [
    "#### Also, more number of items were bought before corona than after corona, with 10 items being bought on average, and about 6 items being bought after corona,"
   ]
  },
  {
   "cell_type": "code",
   "execution_count": 32,
   "id": "e0268e1f",
   "metadata": {},
   "outputs": [],
   "source": [
    "sns.set(style=\"darkgrid\")\n",
    "sns.set_palette(\"hls\", 3)\n",
    "fig, ax = plt.subplots(figsize=(13,10))\n",
    "ax = sns.countplot(x=\"Corona_effect\", hue=\"mode_of_purchase\", data=df)\n",
    "\n",
    "for p in ax.patches:\n",
    "    height = p.get_height()\n",
    "    ax.text(p.get_x()+p.get_width()/2.,\n",
    "            height + 3,\n",
    "            '{:1.2f}'.format(height/df.shape[0]),\n",
    "            ha=\"center\")"
   ]
  },
  {
   "cell_type": "markdown",
   "id": "0592b2c2",
   "metadata": {},
   "source": [
    "#### As expected, 57% of all purchases were done online(delivery) after corona, with only 22% being done before corona, as the social distancing protocol was implemented in all areas, people just order their equipment, and its delivered to them"
   ]
  },
  {
   "cell_type": "code",
   "execution_count": 33,
   "id": "c1a73fe4",
   "metadata": {},
   "outputs": [
    {
     "data": {
      "text/html": [
       "<div>\n",
       "<style scoped>\n",
       "    .dataframe tbody tr th:only-of-type {\n",
       "        vertical-align: middle;\n",
       "    }\n",
       "\n",
       "    .dataframe tbody tr th {\n",
       "        vertical-align: top;\n",
       "    }\n",
       "\n",
       "    .dataframe thead th {\n",
       "        text-align: right;\n",
       "    }\n",
       "</style>\n",
       "<table border=\"1\" class=\"dataframe\">\n",
       "  <thead>\n",
       "    <tr style=\"text-align: right;\">\n",
       "      <th></th>\n",
       "      <th>Date</th>\n",
       "      <th>mode_of_purchase</th>\n",
       "      <th>sporting_equipment</th>\n",
       "      <th>store</th>\n",
       "      <th>estimated_spending</th>\n",
       "      <th>number_of_items_bought</th>\n",
       "      <th>month</th>\n",
       "      <th>day</th>\n",
       "      <th>seasons</th>\n",
       "      <th>weekday</th>\n",
       "      <th>Corona_effect</th>\n",
       "    </tr>\n",
       "  </thead>\n",
       "  <tbody>\n",
       "    <tr>\n",
       "      <th>0</th>\n",
       "      <td>2019-08-01</td>\n",
       "      <td>order</td>\n",
       "      <td>fitness</td>\n",
       "      <td>east</td>\n",
       "      <td>167.176800</td>\n",
       "      <td>7</td>\n",
       "      <td>8</td>\n",
       "      <td>1</td>\n",
       "      <td>Summer</td>\n",
       "      <td>weekday</td>\n",
       "      <td>before_corona</td>\n",
       "    </tr>\n",
       "    <tr>\n",
       "      <th>1</th>\n",
       "      <td>2019-08-01</td>\n",
       "      <td>order</td>\n",
       "      <td>jog/run</td>\n",
       "      <td>south</td>\n",
       "      <td>297.508400</td>\n",
       "      <td>8</td>\n",
       "      <td>8</td>\n",
       "      <td>1</td>\n",
       "      <td>Summer</td>\n",
       "      <td>weekday</td>\n",
       "      <td>before_corona</td>\n",
       "    </tr>\n",
       "    <tr>\n",
       "      <th>2</th>\n",
       "      <td>2019-08-01</td>\n",
       "      <td>order</td>\n",
       "      <td>pilates</td>\n",
       "      <td>south</td>\n",
       "      <td>150.516800</td>\n",
       "      <td>5</td>\n",
       "      <td>8</td>\n",
       "      <td>1</td>\n",
       "      <td>Summer</td>\n",
       "      <td>weekday</td>\n",
       "      <td>before_corona</td>\n",
       "    </tr>\n",
       "    <tr>\n",
       "      <th>3</th>\n",
       "      <td>2019-08-01</td>\n",
       "      <td>order</td>\n",
       "      <td>pilates</td>\n",
       "      <td>east</td>\n",
       "      <td>91.911400</td>\n",
       "      <td>7</td>\n",
       "      <td>8</td>\n",
       "      <td>1</td>\n",
       "      <td>Summer</td>\n",
       "      <td>weekday</td>\n",
       "      <td>before_corona</td>\n",
       "    </tr>\n",
       "    <tr>\n",
       "      <th>4</th>\n",
       "      <td>2019-08-01</td>\n",
       "      <td>physical_collection</td>\n",
       "      <td>diving</td>\n",
       "      <td>west</td>\n",
       "      <td>90.819400</td>\n",
       "      <td>2</td>\n",
       "      <td>8</td>\n",
       "      <td>1</td>\n",
       "      <td>Summer</td>\n",
       "      <td>weekday</td>\n",
       "      <td>before_corona</td>\n",
       "    </tr>\n",
       "    <tr>\n",
       "      <th>...</th>\n",
       "      <td>...</td>\n",
       "      <td>...</td>\n",
       "      <td>...</td>\n",
       "      <td>...</td>\n",
       "      <td>...</td>\n",
       "      <td>...</td>\n",
       "      <td>...</td>\n",
       "      <td>...</td>\n",
       "      <td>...</td>\n",
       "      <td>...</td>\n",
       "      <td>...</td>\n",
       "    </tr>\n",
       "    <tr>\n",
       "      <th>46758</th>\n",
       "      <td>2021-10-31</td>\n",
       "      <td>order</td>\n",
       "      <td>swimming</td>\n",
       "      <td>south</td>\n",
       "      <td>87.588667</td>\n",
       "      <td>4</td>\n",
       "      <td>10</td>\n",
       "      <td>31</td>\n",
       "      <td>Autumn</td>\n",
       "      <td>weekend</td>\n",
       "      <td>corona_effect</td>\n",
       "    </tr>\n",
       "    <tr>\n",
       "      <th>46759</th>\n",
       "      <td>2021-10-31</td>\n",
       "      <td>order</td>\n",
       "      <td>basketball</td>\n",
       "      <td>south</td>\n",
       "      <td>19.809333</td>\n",
       "      <td>1</td>\n",
       "      <td>10</td>\n",
       "      <td>31</td>\n",
       "      <td>Autumn</td>\n",
       "      <td>weekend</td>\n",
       "      <td>corona_effect</td>\n",
       "    </tr>\n",
       "    <tr>\n",
       "      <th>46760</th>\n",
       "      <td>2021-10-31</td>\n",
       "      <td>order</td>\n",
       "      <td>triathlon</td>\n",
       "      <td>east</td>\n",
       "      <td>46.942667</td>\n",
       "      <td>1</td>\n",
       "      <td>10</td>\n",
       "      <td>31</td>\n",
       "      <td>Autumn</td>\n",
       "      <td>weekend</td>\n",
       "      <td>corona_effect</td>\n",
       "    </tr>\n",
       "    <tr>\n",
       "      <th>46761</th>\n",
       "      <td>2021-10-31</td>\n",
       "      <td>order</td>\n",
       "      <td>tennis</td>\n",
       "      <td>south</td>\n",
       "      <td>154.963333</td>\n",
       "      <td>5</td>\n",
       "      <td>10</td>\n",
       "      <td>31</td>\n",
       "      <td>Autumn</td>\n",
       "      <td>weekend</td>\n",
       "      <td>corona_effect</td>\n",
       "    </tr>\n",
       "    <tr>\n",
       "      <th>46762</th>\n",
       "      <td>2021-10-31</td>\n",
       "      <td>order</td>\n",
       "      <td>sailing</td>\n",
       "      <td>east</td>\n",
       "      <td>27.650000</td>\n",
       "      <td>2</td>\n",
       "      <td>10</td>\n",
       "      <td>31</td>\n",
       "      <td>Autumn</td>\n",
       "      <td>weekend</td>\n",
       "      <td>corona_effect</td>\n",
       "    </tr>\n",
       "  </tbody>\n",
       "</table>\n",
       "<p>46478 rows × 11 columns</p>\n",
       "</div>"
      ],
      "text/plain": [
       "            Date     mode_of_purchase sporting_equipment  store  \\\n",
       "0     2019-08-01                order            fitness   east   \n",
       "1     2019-08-01                order            jog/run  south   \n",
       "2     2019-08-01                order            pilates  south   \n",
       "3     2019-08-01                order            pilates   east   \n",
       "4     2019-08-01  physical_collection             diving   west   \n",
       "...          ...                  ...                ...    ...   \n",
       "46758 2021-10-31                order           swimming  south   \n",
       "46759 2021-10-31                order         basketball  south   \n",
       "46760 2021-10-31                order          triathlon   east   \n",
       "46761 2021-10-31                order             tennis  south   \n",
       "46762 2021-10-31                order            sailing   east   \n",
       "\n",
       "       estimated_spending  number_of_items_bought  month  day seasons  \\\n",
       "0              167.176800                       7      8    1  Summer   \n",
       "1              297.508400                       8      8    1  Summer   \n",
       "2              150.516800                       5      8    1  Summer   \n",
       "3               91.911400                       7      8    1  Summer   \n",
       "4               90.819400                       2      8    1  Summer   \n",
       "...                   ...                     ...    ...  ...     ...   \n",
       "46758           87.588667                       4     10   31  Autumn   \n",
       "46759           19.809333                       1     10   31  Autumn   \n",
       "46760           46.942667                       1     10   31  Autumn   \n",
       "46761          154.963333                       5     10   31  Autumn   \n",
       "46762           27.650000                       2     10   31  Autumn   \n",
       "\n",
       "       weekday  Corona_effect  \n",
       "0      weekday  before_corona  \n",
       "1      weekday  before_corona  \n",
       "2      weekday  before_corona  \n",
       "3      weekday  before_corona  \n",
       "4      weekday  before_corona  \n",
       "...        ...            ...  \n",
       "46758  weekend  corona_effect  \n",
       "46759  weekend  corona_effect  \n",
       "46760  weekend  corona_effect  \n",
       "46761  weekend  corona_effect  \n",
       "46762  weekend  corona_effect  \n",
       "\n",
       "[46478 rows x 11 columns]"
      ]
     },
     "execution_count": 33,
     "metadata": {},
     "output_type": "execute_result"
    }
   ],
   "source": [
    "df"
   ]
  },
  {
   "cell_type": "code",
   "execution_count": 34,
   "id": "6360aee6",
   "metadata": {},
   "outputs": [],
   "source": [
    "#remove unneccesary features\n",
    "df=df.drop(columns=['Date','Corona_effect'])"
   ]
  },
  {
   "cell_type": "code",
   "execution_count": 35,
   "id": "dcdb13e5",
   "metadata": {},
   "outputs": [
    {
     "data": {
      "text/html": [
       "<div>\n",
       "<style scoped>\n",
       "    .dataframe tbody tr th:only-of-type {\n",
       "        vertical-align: middle;\n",
       "    }\n",
       "\n",
       "    .dataframe tbody tr th {\n",
       "        vertical-align: top;\n",
       "    }\n",
       "\n",
       "    .dataframe thead th {\n",
       "        text-align: right;\n",
       "    }\n",
       "</style>\n",
       "<table border=\"1\" class=\"dataframe\">\n",
       "  <thead>\n",
       "    <tr style=\"text-align: right;\">\n",
       "      <th></th>\n",
       "      <th>mode_of_purchase</th>\n",
       "      <th>sporting_equipment</th>\n",
       "      <th>store</th>\n",
       "      <th>estimated_spending</th>\n",
       "      <th>number_of_items_bought</th>\n",
       "      <th>month</th>\n",
       "      <th>day</th>\n",
       "      <th>seasons</th>\n",
       "      <th>weekday</th>\n",
       "    </tr>\n",
       "  </thead>\n",
       "  <tbody>\n",
       "    <tr>\n",
       "      <th>0</th>\n",
       "      <td>order</td>\n",
       "      <td>fitness</td>\n",
       "      <td>east</td>\n",
       "      <td>167.1768</td>\n",
       "      <td>7</td>\n",
       "      <td>8</td>\n",
       "      <td>1</td>\n",
       "      <td>Summer</td>\n",
       "      <td>weekday</td>\n",
       "    </tr>\n",
       "    <tr>\n",
       "      <th>1</th>\n",
       "      <td>order</td>\n",
       "      <td>jog/run</td>\n",
       "      <td>south</td>\n",
       "      <td>297.5084</td>\n",
       "      <td>8</td>\n",
       "      <td>8</td>\n",
       "      <td>1</td>\n",
       "      <td>Summer</td>\n",
       "      <td>weekday</td>\n",
       "    </tr>\n",
       "    <tr>\n",
       "      <th>2</th>\n",
       "      <td>order</td>\n",
       "      <td>pilates</td>\n",
       "      <td>south</td>\n",
       "      <td>150.5168</td>\n",
       "      <td>5</td>\n",
       "      <td>8</td>\n",
       "      <td>1</td>\n",
       "      <td>Summer</td>\n",
       "      <td>weekday</td>\n",
       "    </tr>\n",
       "    <tr>\n",
       "      <th>3</th>\n",
       "      <td>order</td>\n",
       "      <td>pilates</td>\n",
       "      <td>east</td>\n",
       "      <td>91.9114</td>\n",
       "      <td>7</td>\n",
       "      <td>8</td>\n",
       "      <td>1</td>\n",
       "      <td>Summer</td>\n",
       "      <td>weekday</td>\n",
       "    </tr>\n",
       "    <tr>\n",
       "      <th>4</th>\n",
       "      <td>physical_collection</td>\n",
       "      <td>diving</td>\n",
       "      <td>west</td>\n",
       "      <td>90.8194</td>\n",
       "      <td>2</td>\n",
       "      <td>8</td>\n",
       "      <td>1</td>\n",
       "      <td>Summer</td>\n",
       "      <td>weekday</td>\n",
       "    </tr>\n",
       "  </tbody>\n",
       "</table>\n",
       "</div>"
      ],
      "text/plain": [
       "      mode_of_purchase sporting_equipment  store  estimated_spending  \\\n",
       "0                order            fitness   east            167.1768   \n",
       "1                order            jog/run  south            297.5084   \n",
       "2                order            pilates  south            150.5168   \n",
       "3                order            pilates   east             91.9114   \n",
       "4  physical_collection             diving   west             90.8194   \n",
       "\n",
       "   number_of_items_bought  month  day seasons  weekday  \n",
       "0                       7      8    1  Summer  weekday  \n",
       "1                       8      8    1  Summer  weekday  \n",
       "2                       5      8    1  Summer  weekday  \n",
       "3                       7      8    1  Summer  weekday  \n",
       "4                       2      8    1  Summer  weekday  "
      ]
     },
     "execution_count": 35,
     "metadata": {},
     "output_type": "execute_result"
    }
   ],
   "source": [
    "df.head()"
   ]
  },
  {
   "cell_type": "code",
   "execution_count": 36,
   "id": "6b4f71ec",
   "metadata": {},
   "outputs": [
    {
     "data": {
      "text/plain": [
       "46478"
      ]
     },
     "execution_count": 36,
     "metadata": {},
     "output_type": "execute_result"
    }
   ],
   "source": [
    "len(df)"
   ]
  },
  {
   "cell_type": "code",
   "execution_count": 37,
   "id": "e059f1eb",
   "metadata": {},
   "outputs": [
    {
     "data": {
      "text/html": [
       "<div>\n",
       "<style scoped>\n",
       "    .dataframe tbody tr th:only-of-type {\n",
       "        vertical-align: middle;\n",
       "    }\n",
       "\n",
       "    .dataframe tbody tr th {\n",
       "        vertical-align: top;\n",
       "    }\n",
       "\n",
       "    .dataframe thead th {\n",
       "        text-align: right;\n",
       "    }\n",
       "</style>\n",
       "<table border=\"1\" class=\"dataframe\">\n",
       "  <thead>\n",
       "    <tr style=\"text-align: right;\">\n",
       "      <th></th>\n",
       "      <th>estimated_spending</th>\n",
       "      <th>number_of_items_bought</th>\n",
       "      <th>month</th>\n",
       "      <th>day</th>\n",
       "    </tr>\n",
       "  </thead>\n",
       "  <tbody>\n",
       "    <tr>\n",
       "      <th>estimated_spending</th>\n",
       "      <td>1.000000</td>\n",
       "      <td>0.932178</td>\n",
       "      <td>0.035314</td>\n",
       "      <td>-0.012047</td>\n",
       "    </tr>\n",
       "    <tr>\n",
       "      <th>number_of_items_bought</th>\n",
       "      <td>0.932178</td>\n",
       "      <td>1.000000</td>\n",
       "      <td>0.027716</td>\n",
       "      <td>-0.017727</td>\n",
       "    </tr>\n",
       "    <tr>\n",
       "      <th>month</th>\n",
       "      <td>0.035314</td>\n",
       "      <td>0.027716</td>\n",
       "      <td>1.000000</td>\n",
       "      <td>0.011353</td>\n",
       "    </tr>\n",
       "    <tr>\n",
       "      <th>day</th>\n",
       "      <td>-0.012047</td>\n",
       "      <td>-0.017727</td>\n",
       "      <td>0.011353</td>\n",
       "      <td>1.000000</td>\n",
       "    </tr>\n",
       "  </tbody>\n",
       "</table>\n",
       "</div>"
      ],
      "text/plain": [
       "                        estimated_spending  number_of_items_bought     month  \\\n",
       "estimated_spending                1.000000                0.932178  0.035314   \n",
       "number_of_items_bought            0.932178                1.000000  0.027716   \n",
       "month                             0.035314                0.027716  1.000000   \n",
       "day                              -0.012047               -0.017727  0.011353   \n",
       "\n",
       "                             day  \n",
       "estimated_spending     -0.012047  \n",
       "number_of_items_bought -0.017727  \n",
       "month                   0.011353  \n",
       "day                     1.000000  "
      ]
     },
     "execution_count": 37,
     "metadata": {},
     "output_type": "execute_result"
    }
   ],
   "source": [
    "df.corr()"
   ]
  },
  {
   "cell_type": "code",
   "execution_count": 38,
   "id": "293c3f6d",
   "metadata": {},
   "outputs": [],
   "source": [
    "df['month']=df['month'].astype('category')"
   ]
  },
  {
   "cell_type": "code",
   "execution_count": 39,
   "id": "d9eb91c6",
   "metadata": {},
   "outputs": [
    {
     "data": {
      "text/plain": [
       "<AxesSubplot:xlabel='Corona_effect', ylabel='estimated_spending'>"
      ]
     },
     "execution_count": 39,
     "metadata": {},
     "output_type": "execute_result"
    }
   ],
   "source": [
    "sns.boxplot(y=df['estimated_spending'])"
   ]
  },
  {
   "cell_type": "code",
   "execution_count": 40,
   "id": "e5cb0962",
   "metadata": {},
   "outputs": [
    {
     "data": {
      "text/plain": [
       "count    46478.000000\n",
       "mean       606.349969\n",
       "std       1250.052653\n",
       "min          6.667333\n",
       "25%         72.980700\n",
       "50%        275.603000\n",
       "75%        616.451750\n",
       "max      26702.307800\n",
       "Name: estimated_spending, dtype: float64"
      ]
     },
     "execution_count": 40,
     "metadata": {},
     "output_type": "execute_result"
    }
   ],
   "source": [
    "df['estimated_spending'].describe()"
   ]
  },
  {
   "cell_type": "code",
   "execution_count": null,
   "id": "019a383f",
   "metadata": {},
   "outputs": [],
   "source": []
  },
  {
   "cell_type": "code",
   "execution_count": null,
   "id": "6fb107fc",
   "metadata": {},
   "outputs": [],
   "source": []
  }
 ],
 "metadata": {
  "kernelspec": {
   "display_name": "Python 3 (ipykernel)",
   "language": "python",
   "name": "python3"
  },
  "language_info": {
   "codemirror_mode": {
    "name": "ipython",
    "version": 3
   },
   "file_extension": ".py",
   "mimetype": "text/x-python",
   "name": "python",
   "nbconvert_exporter": "python",
   "pygments_lexer": "ipython3",
   "version": "3.8.12"
  }
 },
 "nbformat": 4,
 "nbformat_minor": 5
}
